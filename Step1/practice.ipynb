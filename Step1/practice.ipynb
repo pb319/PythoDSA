{
 "cells": [
  {
   "cell_type": "code",
   "execution_count": 2,
   "metadata": {},
   "outputs": [
    {
     "name": "stdout",
     "output_type": "stream",
     "text": [
      "[144, 2025, 3136]\n"
     ]
    }
   ],
   "source": [
    "# Starting GitHub DSA\n",
    "\n",
    "def get_sqare(numbers):\n",
    "    square = []\n",
    "    for number in numbers:\n",
    "        square.append(number**2)\n",
    "    return(square) # O(n)\n",
    "\n",
    "x = map(int,input(\"Space seperated string of numbers\").split())\n",
    "print(get_sqare(x))"
   ]
  },
  {
   "cell_type": "code",
   "execution_count": null,
   "metadata": {},
   "outputs": [],
   "source": []
  }
 ],
 "metadata": {
  "kernelspec": {
   "display_name": "penv",
   "language": "python",
   "name": "python3"
  },
  "language_info": {
   "codemirror_mode": {
    "name": "ipython",
    "version": 3
   },
   "file_extension": ".py",
   "mimetype": "text/x-python",
   "name": "python",
   "nbconvert_exporter": "python",
   "pygments_lexer": "ipython3",
   "version": "3.11.6"
  }
 },
 "nbformat": 4,
 "nbformat_minor": 2
}
